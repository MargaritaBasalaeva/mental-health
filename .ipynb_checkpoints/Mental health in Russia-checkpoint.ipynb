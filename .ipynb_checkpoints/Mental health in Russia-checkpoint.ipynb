{
 "cells": [
  {
   "cell_type": "code",
   "execution_count": 40,
   "id": "aa6fd461",
   "metadata": {},
   "outputs": [],
   "source": [
    "import pandas as pd\n",
    "import seaborn as sns\n",
    "from scipy import stats\n",
    "import numpy as np\n",
    "import pingouin as pg\n",
    "from statsmodels.stats.multicomp import (pairwise_tukeyhsd, MultiComparison)\n",
    "import statsmodels.api as sm\n",
    "from statsmodels.formula.api import ols"
   ]
  },
  {
   "cell_type": "code",
   "execution_count": 44,
   "id": "ef9cf771",
   "metadata": {},
   "outputs": [
    {
     "data": {
      "text/html": [
       "<div>\n",
       "<style scoped>\n",
       "    .dataframe tbody tr th:only-of-type {\n",
       "        vertical-align: middle;\n",
       "    }\n",
       "\n",
       "    .dataframe tbody tr th {\n",
       "        vertical-align: top;\n",
       "    }\n",
       "\n",
       "    .dataframe thead th {\n",
       "        text-align: right;\n",
       "    }\n",
       "</style>\n",
       "<table border=\"1\" class=\"dataframe\">\n",
       "  <thead>\n",
       "    <tr style=\"text-align: right;\">\n",
       "      <th></th>\n",
       "      <th>Entity</th>\n",
       "      <th>Code</th>\n",
       "      <th>Year</th>\n",
       "      <th>Prevalence - Schizophrenia - Sex: Both - Age: Age-standardized (Percent)</th>\n",
       "      <th>Prevalence - Bipolar disorder - Sex: Both - Age: Age-standardized (Percent)</th>\n",
       "      <th>Prevalence - Eating disorders - Sex: Both - Age: Age-standardized (Percent)</th>\n",
       "      <th>Prevalence - Anxiety disorders - Sex: Both - Age: Age-standardized (Percent)</th>\n",
       "      <th>Prevalence - Drug use disorders - Sex: Both - Age: Age-standardized (Percent)</th>\n",
       "      <th>Prevalence - Depressive disorders - Sex: Both - Age: Age-standardized (Percent)</th>\n",
       "      <th>Prevalence - Alcohol use disorders - Sex: Both - Age: Age-standardized (Percent)</th>\n",
       "    </tr>\n",
       "  </thead>\n",
       "  <tbody>\n",
       "    <tr>\n",
       "      <th>0</th>\n",
       "      <td>Afghanistan</td>\n",
       "      <td>AFG</td>\n",
       "      <td>1990</td>\n",
       "      <td>0.228979</td>\n",
       "      <td>0.721207</td>\n",
       "      <td>0.131001</td>\n",
       "      <td>4.835127</td>\n",
       "      <td>0.454202</td>\n",
       "      <td>5.125291</td>\n",
       "      <td>0.444036</td>\n",
       "    </tr>\n",
       "    <tr>\n",
       "      <th>1</th>\n",
       "      <td>Afghanistan</td>\n",
       "      <td>AFG</td>\n",
       "      <td>1991</td>\n",
       "      <td>0.228120</td>\n",
       "      <td>0.719952</td>\n",
       "      <td>0.126395</td>\n",
       "      <td>4.821765</td>\n",
       "      <td>0.447112</td>\n",
       "      <td>5.116306</td>\n",
       "      <td>0.444250</td>\n",
       "    </tr>\n",
       "    <tr>\n",
       "      <th>2</th>\n",
       "      <td>Afghanistan</td>\n",
       "      <td>AFG</td>\n",
       "      <td>1992</td>\n",
       "      <td>0.227328</td>\n",
       "      <td>0.718418</td>\n",
       "      <td>0.121832</td>\n",
       "      <td>4.801434</td>\n",
       "      <td>0.441190</td>\n",
       "      <td>5.106558</td>\n",
       "      <td>0.445501</td>\n",
       "    </tr>\n",
       "    <tr>\n",
       "      <th>3</th>\n",
       "      <td>Afghanistan</td>\n",
       "      <td>AFG</td>\n",
       "      <td>1993</td>\n",
       "      <td>0.226468</td>\n",
       "      <td>0.717452</td>\n",
       "      <td>0.117942</td>\n",
       "      <td>4.789363</td>\n",
       "      <td>0.435581</td>\n",
       "      <td>5.100328</td>\n",
       "      <td>0.445958</td>\n",
       "    </tr>\n",
       "    <tr>\n",
       "      <th>4</th>\n",
       "      <td>Afghanistan</td>\n",
       "      <td>AFG</td>\n",
       "      <td>1994</td>\n",
       "      <td>0.225567</td>\n",
       "      <td>0.717012</td>\n",
       "      <td>0.114547</td>\n",
       "      <td>4.784923</td>\n",
       "      <td>0.431822</td>\n",
       "      <td>5.099424</td>\n",
       "      <td>0.445779</td>\n",
       "    </tr>\n",
       "  </tbody>\n",
       "</table>\n",
       "</div>"
      ],
      "text/plain": [
       "        Entity Code  Year  \\\n",
       "0  Afghanistan  AFG  1990   \n",
       "1  Afghanistan  AFG  1991   \n",
       "2  Afghanistan  AFG  1992   \n",
       "3  Afghanistan  AFG  1993   \n",
       "4  Afghanistan  AFG  1994   \n",
       "\n",
       "   Prevalence - Schizophrenia - Sex: Both - Age: Age-standardized (Percent)  \\\n",
       "0                                           0.228979                          \n",
       "1                                           0.228120                          \n",
       "2                                           0.227328                          \n",
       "3                                           0.226468                          \n",
       "4                                           0.225567                          \n",
       "\n",
       "   Prevalence - Bipolar disorder - Sex: Both - Age: Age-standardized (Percent)  \\\n",
       "0                                           0.721207                             \n",
       "1                                           0.719952                             \n",
       "2                                           0.718418                             \n",
       "3                                           0.717452                             \n",
       "4                                           0.717012                             \n",
       "\n",
       "   Prevalence - Eating disorders - Sex: Both - Age: Age-standardized (Percent)  \\\n",
       "0                                           0.131001                             \n",
       "1                                           0.126395                             \n",
       "2                                           0.121832                             \n",
       "3                                           0.117942                             \n",
       "4                                           0.114547                             \n",
       "\n",
       "   Prevalence - Anxiety disorders - Sex: Both - Age: Age-standardized (Percent)  \\\n",
       "0                                           4.835127                              \n",
       "1                                           4.821765                              \n",
       "2                                           4.801434                              \n",
       "3                                           4.789363                              \n",
       "4                                           4.784923                              \n",
       "\n",
       "   Prevalence - Drug use disorders - Sex: Both - Age: Age-standardized (Percent)  \\\n",
       "0                                           0.454202                               \n",
       "1                                           0.447112                               \n",
       "2                                           0.441190                               \n",
       "3                                           0.435581                               \n",
       "4                                           0.431822                               \n",
       "\n",
       "   Prevalence - Depressive disorders - Sex: Both - Age: Age-standardized (Percent)  \\\n",
       "0                                           5.125291                                 \n",
       "1                                           5.116306                                 \n",
       "2                                           5.106558                                 \n",
       "3                                           5.100328                                 \n",
       "4                                           5.099424                                 \n",
       "\n",
       "   Prevalence - Alcohol use disorders - Sex: Both - Age: Age-standardized (Percent)  \n",
       "0                                           0.444036                                 \n",
       "1                                           0.444250                                 \n",
       "2                                           0.445501                                 \n",
       "3                                           0.445958                                 \n",
       "4                                           0.445779                                 "
      ]
     },
     "execution_count": 44,
     "metadata": {},
     "output_type": "execute_result"
    }
   ],
   "source": [
    "df = pd.read_csv('prevalence-by-mental-and-substance-use-disorder.csv')\n",
    "df.head()"
   ]
  },
  {
   "cell_type": "code",
   "execution_count": 56,
   "id": "aedcc5b2",
   "metadata": {},
   "outputs": [
    {
     "data": {
      "text/html": [
       "<div>\n",
       "<style scoped>\n",
       "    .dataframe tbody tr th:only-of-type {\n",
       "        vertical-align: middle;\n",
       "    }\n",
       "\n",
       "    .dataframe tbody tr th {\n",
       "        vertical-align: top;\n",
       "    }\n",
       "\n",
       "    .dataframe thead th {\n",
       "        text-align: right;\n",
       "    }\n",
       "</style>\n",
       "<table border=\"1\" class=\"dataframe\">\n",
       "  <thead>\n",
       "    <tr style=\"text-align: right;\">\n",
       "      <th></th>\n",
       "      <th>Year</th>\n",
       "      <th>Schizophrenia, %</th>\n",
       "      <th>Bipolar disorder, %</th>\n",
       "      <th>Eating disorders, %</th>\n",
       "      <th>Anxiety</th>\n",
       "      <th>Drug</th>\n",
       "      <th>Depression</th>\n",
       "      <th>Alcohol</th>\n",
       "    </tr>\n",
       "  </thead>\n",
       "  <tbody>\n",
       "    <tr>\n",
       "      <th>4860</th>\n",
       "      <td>1990</td>\n",
       "      <td>0.297650</td>\n",
       "      <td>0.546132</td>\n",
       "      <td>0.161922</td>\n",
       "      <td>3.368835</td>\n",
       "      <td>1.158101</td>\n",
       "      <td>3.444135</td>\n",
       "      <td>3.650886</td>\n",
       "    </tr>\n",
       "    <tr>\n",
       "      <th>4861</th>\n",
       "      <td>1991</td>\n",
       "      <td>0.297248</td>\n",
       "      <td>0.545923</td>\n",
       "      <td>0.159473</td>\n",
       "      <td>3.366418</td>\n",
       "      <td>1.195578</td>\n",
       "      <td>3.461373</td>\n",
       "      <td>3.654153</td>\n",
       "    </tr>\n",
       "    <tr>\n",
       "      <th>4862</th>\n",
       "      <td>1992</td>\n",
       "      <td>0.296835</td>\n",
       "      <td>0.545788</td>\n",
       "      <td>0.156935</td>\n",
       "      <td>3.364233</td>\n",
       "      <td>1.232454</td>\n",
       "      <td>3.475423</td>\n",
       "      <td>3.677310</td>\n",
       "    </tr>\n",
       "    <tr>\n",
       "      <th>4863</th>\n",
       "      <td>1993</td>\n",
       "      <td>0.296416</td>\n",
       "      <td>0.545762</td>\n",
       "      <td>0.154284</td>\n",
       "      <td>3.363235</td>\n",
       "      <td>1.267117</td>\n",
       "      <td>3.487437</td>\n",
       "      <td>3.711608</td>\n",
       "    </tr>\n",
       "    <tr>\n",
       "      <th>4864</th>\n",
       "      <td>1994</td>\n",
       "      <td>0.296017</td>\n",
       "      <td>0.545821</td>\n",
       "      <td>0.151824</td>\n",
       "      <td>3.363033</td>\n",
       "      <td>1.297654</td>\n",
       "      <td>3.497208</td>\n",
       "      <td>3.752854</td>\n",
       "    </tr>\n",
       "    <tr>\n",
       "      <th>4865</th>\n",
       "      <td>1995</td>\n",
       "      <td>0.295671</td>\n",
       "      <td>0.545929</td>\n",
       "      <td>0.149223</td>\n",
       "      <td>3.363198</td>\n",
       "      <td>1.323159</td>\n",
       "      <td>3.504938</td>\n",
       "      <td>3.797207</td>\n",
       "    </tr>\n",
       "    <tr>\n",
       "      <th>4866</th>\n",
       "      <td>1996</td>\n",
       "      <td>0.295282</td>\n",
       "      <td>0.546240</td>\n",
       "      <td>0.146140</td>\n",
       "      <td>3.363753</td>\n",
       "      <td>1.350315</td>\n",
       "      <td>3.509588</td>\n",
       "      <td>3.919494</td>\n",
       "    </tr>\n",
       "    <tr>\n",
       "      <th>4867</th>\n",
       "      <td>1997</td>\n",
       "      <td>0.294811</td>\n",
       "      <td>0.546829</td>\n",
       "      <td>0.142504</td>\n",
       "      <td>3.364939</td>\n",
       "      <td>1.382766</td>\n",
       "      <td>3.510591</td>\n",
       "      <td>4.146773</td>\n",
       "    </tr>\n",
       "    <tr>\n",
       "      <th>4868</th>\n",
       "      <td>1998</td>\n",
       "      <td>0.294364</td>\n",
       "      <td>0.547569</td>\n",
       "      <td>0.139228</td>\n",
       "      <td>3.366947</td>\n",
       "      <td>1.414574</td>\n",
       "      <td>3.508963</td>\n",
       "      <td>4.402743</td>\n",
       "    </tr>\n",
       "    <tr>\n",
       "      <th>4869</th>\n",
       "      <td>1999</td>\n",
       "      <td>0.294057</td>\n",
       "      <td>0.548278</td>\n",
       "      <td>0.136742</td>\n",
       "      <td>3.369019</td>\n",
       "      <td>1.439735</td>\n",
       "      <td>3.504760</td>\n",
       "      <td>4.612252</td>\n",
       "    </tr>\n",
       "    <tr>\n",
       "      <th>4870</th>\n",
       "      <td>2000</td>\n",
       "      <td>0.294001</td>\n",
       "      <td>0.548763</td>\n",
       "      <td>0.135877</td>\n",
       "      <td>3.370581</td>\n",
       "      <td>1.452094</td>\n",
       "      <td>3.499109</td>\n",
       "      <td>4.698694</td>\n",
       "    </tr>\n",
       "    <tr>\n",
       "      <th>4871</th>\n",
       "      <td>2001</td>\n",
       "      <td>0.294178</td>\n",
       "      <td>0.548972</td>\n",
       "      <td>0.136398</td>\n",
       "      <td>3.370463</td>\n",
       "      <td>1.453217</td>\n",
       "      <td>3.486642</td>\n",
       "      <td>4.616114</td>\n",
       "    </tr>\n",
       "    <tr>\n",
       "      <th>4872</th>\n",
       "      <td>2002</td>\n",
       "      <td>0.294479</td>\n",
       "      <td>0.549061</td>\n",
       "      <td>0.137595</td>\n",
       "      <td>3.368999</td>\n",
       "      <td>1.449791</td>\n",
       "      <td>3.465725</td>\n",
       "      <td>4.412016</td>\n",
       "    </tr>\n",
       "    <tr>\n",
       "      <th>4873</th>\n",
       "      <td>2003</td>\n",
       "      <td>0.294861</td>\n",
       "      <td>0.549140</td>\n",
       "      <td>0.139312</td>\n",
       "      <td>3.367664</td>\n",
       "      <td>1.443148</td>\n",
       "      <td>3.440463</td>\n",
       "      <td>4.150875</td>\n",
       "    </tr>\n",
       "    <tr>\n",
       "      <th>4874</th>\n",
       "      <td>2004</td>\n",
       "      <td>0.295302</td>\n",
       "      <td>0.549284</td>\n",
       "      <td>0.141200</td>\n",
       "      <td>3.366860</td>\n",
       "      <td>1.435289</td>\n",
       "      <td>3.415048</td>\n",
       "      <td>3.902874</td>\n",
       "    </tr>\n",
       "    <tr>\n",
       "      <th>4875</th>\n",
       "      <td>2005</td>\n",
       "      <td>0.295774</td>\n",
       "      <td>0.549567</td>\n",
       "      <td>0.143134</td>\n",
       "      <td>3.367331</td>\n",
       "      <td>1.428195</td>\n",
       "      <td>3.393596</td>\n",
       "      <td>3.736007</td>\n",
       "    </tr>\n",
       "    <tr>\n",
       "      <th>4876</th>\n",
       "      <td>2006</td>\n",
       "      <td>0.296430</td>\n",
       "      <td>0.549983</td>\n",
       "      <td>0.145394</td>\n",
       "      <td>3.368108</td>\n",
       "      <td>1.420745</td>\n",
       "      <td>3.370361</td>\n",
       "      <td>3.639137</td>\n",
       "    </tr>\n",
       "    <tr>\n",
       "      <th>4877</th>\n",
       "      <td>2007</td>\n",
       "      <td>0.297346</td>\n",
       "      <td>0.550443</td>\n",
       "      <td>0.148321</td>\n",
       "      <td>3.368064</td>\n",
       "      <td>1.410592</td>\n",
       "      <td>3.340461</td>\n",
       "      <td>3.555700</td>\n",
       "    </tr>\n",
       "    <tr>\n",
       "      <th>4878</th>\n",
       "      <td>2008</td>\n",
       "      <td>0.298363</td>\n",
       "      <td>0.550945</td>\n",
       "      <td>0.151444</td>\n",
       "      <td>3.368450</td>\n",
       "      <td>1.398961</td>\n",
       "      <td>3.310414</td>\n",
       "      <td>3.481686</td>\n",
       "    </tr>\n",
       "    <tr>\n",
       "      <th>4879</th>\n",
       "      <td>2009</td>\n",
       "      <td>0.299341</td>\n",
       "      <td>0.551432</td>\n",
       "      <td>0.154566</td>\n",
       "      <td>3.369208</td>\n",
       "      <td>1.386746</td>\n",
       "      <td>3.286060</td>\n",
       "      <td>3.419001</td>\n",
       "    </tr>\n",
       "    <tr>\n",
       "      <th>4880</th>\n",
       "      <td>2010</td>\n",
       "      <td>0.300134</td>\n",
       "      <td>0.551853</td>\n",
       "      <td>0.157316</td>\n",
       "      <td>3.370422</td>\n",
       "      <td>1.374636</td>\n",
       "      <td>3.273056</td>\n",
       "      <td>3.369217</td>\n",
       "    </tr>\n",
       "    <tr>\n",
       "      <th>4881</th>\n",
       "      <td>2011</td>\n",
       "      <td>0.300949</td>\n",
       "      <td>0.552312</td>\n",
       "      <td>0.159881</td>\n",
       "      <td>3.373101</td>\n",
       "      <td>1.361207</td>\n",
       "      <td>3.278916</td>\n",
       "      <td>3.321981</td>\n",
       "    </tr>\n",
       "    <tr>\n",
       "      <th>4882</th>\n",
       "      <td>2012</td>\n",
       "      <td>0.301980</td>\n",
       "      <td>0.552884</td>\n",
       "      <td>0.162569</td>\n",
       "      <td>3.377277</td>\n",
       "      <td>1.344097</td>\n",
       "      <td>3.299682</td>\n",
       "      <td>3.269919</td>\n",
       "    </tr>\n",
       "    <tr>\n",
       "      <th>4883</th>\n",
       "      <td>2013</td>\n",
       "      <td>0.303047</td>\n",
       "      <td>0.553500</td>\n",
       "      <td>0.165229</td>\n",
       "      <td>3.382430</td>\n",
       "      <td>1.324848</td>\n",
       "      <td>3.326676</td>\n",
       "      <td>3.215160</td>\n",
       "    </tr>\n",
       "    <tr>\n",
       "      <th>4884</th>\n",
       "      <td>2014</td>\n",
       "      <td>0.303976</td>\n",
       "      <td>0.554053</td>\n",
       "      <td>0.167639</td>\n",
       "      <td>3.386955</td>\n",
       "      <td>1.304935</td>\n",
       "      <td>3.349732</td>\n",
       "      <td>3.164615</td>\n",
       "    </tr>\n",
       "    <tr>\n",
       "      <th>4885</th>\n",
       "      <td>2015</td>\n",
       "      <td>0.304589</td>\n",
       "      <td>0.554429</td>\n",
       "      <td>0.169721</td>\n",
       "      <td>3.389211</td>\n",
       "      <td>1.285640</td>\n",
       "      <td>3.359597</td>\n",
       "      <td>3.125062</td>\n",
       "    </tr>\n",
       "    <tr>\n",
       "      <th>4886</th>\n",
       "      <td>2016</td>\n",
       "      <td>0.304480</td>\n",
       "      <td>0.554482</td>\n",
       "      <td>0.171759</td>\n",
       "      <td>3.388186</td>\n",
       "      <td>1.253967</td>\n",
       "      <td>3.359535</td>\n",
       "      <td>3.014998</td>\n",
       "    </tr>\n",
       "    <tr>\n",
       "      <th>4887</th>\n",
       "      <td>2017</td>\n",
       "      <td>0.304198</td>\n",
       "      <td>0.554461</td>\n",
       "      <td>0.173169</td>\n",
       "      <td>3.385896</td>\n",
       "      <td>1.228989</td>\n",
       "      <td>3.357317</td>\n",
       "      <td>2.917695</td>\n",
       "    </tr>\n",
       "    <tr>\n",
       "      <th>4888</th>\n",
       "      <td>2018</td>\n",
       "      <td>0.304120</td>\n",
       "      <td>0.554491</td>\n",
       "      <td>0.173879</td>\n",
       "      <td>3.383535</td>\n",
       "      <td>1.220963</td>\n",
       "      <td>3.345828</td>\n",
       "      <td>2.908021</td>\n",
       "    </tr>\n",
       "    <tr>\n",
       "      <th>4889</th>\n",
       "      <td>2019</td>\n",
       "      <td>0.303947</td>\n",
       "      <td>0.554442</td>\n",
       "      <td>0.174256</td>\n",
       "      <td>3.379796</td>\n",
       "      <td>1.216340</td>\n",
       "      <td>3.321793</td>\n",
       "      <td>2.927268</td>\n",
       "    </tr>\n",
       "  </tbody>\n",
       "</table>\n",
       "</div>"
      ],
      "text/plain": [
       "      Year  Schizophrenia, %  Bipolar disorder, %  Eating disorders, %  \\\n",
       "4860  1990          0.297650             0.546132             0.161922   \n",
       "4861  1991          0.297248             0.545923             0.159473   \n",
       "4862  1992          0.296835             0.545788             0.156935   \n",
       "4863  1993          0.296416             0.545762             0.154284   \n",
       "4864  1994          0.296017             0.545821             0.151824   \n",
       "4865  1995          0.295671             0.545929             0.149223   \n",
       "4866  1996          0.295282             0.546240             0.146140   \n",
       "4867  1997          0.294811             0.546829             0.142504   \n",
       "4868  1998          0.294364             0.547569             0.139228   \n",
       "4869  1999          0.294057             0.548278             0.136742   \n",
       "4870  2000          0.294001             0.548763             0.135877   \n",
       "4871  2001          0.294178             0.548972             0.136398   \n",
       "4872  2002          0.294479             0.549061             0.137595   \n",
       "4873  2003          0.294861             0.549140             0.139312   \n",
       "4874  2004          0.295302             0.549284             0.141200   \n",
       "4875  2005          0.295774             0.549567             0.143134   \n",
       "4876  2006          0.296430             0.549983             0.145394   \n",
       "4877  2007          0.297346             0.550443             0.148321   \n",
       "4878  2008          0.298363             0.550945             0.151444   \n",
       "4879  2009          0.299341             0.551432             0.154566   \n",
       "4880  2010          0.300134             0.551853             0.157316   \n",
       "4881  2011          0.300949             0.552312             0.159881   \n",
       "4882  2012          0.301980             0.552884             0.162569   \n",
       "4883  2013          0.303047             0.553500             0.165229   \n",
       "4884  2014          0.303976             0.554053             0.167639   \n",
       "4885  2015          0.304589             0.554429             0.169721   \n",
       "4886  2016          0.304480             0.554482             0.171759   \n",
       "4887  2017          0.304198             0.554461             0.173169   \n",
       "4888  2018          0.304120             0.554491             0.173879   \n",
       "4889  2019          0.303947             0.554442             0.174256   \n",
       "\n",
       "       Anxiety      Drug  Depression   Alcohol  \n",
       "4860  3.368835  1.158101    3.444135  3.650886  \n",
       "4861  3.366418  1.195578    3.461373  3.654153  \n",
       "4862  3.364233  1.232454    3.475423  3.677310  \n",
       "4863  3.363235  1.267117    3.487437  3.711608  \n",
       "4864  3.363033  1.297654    3.497208  3.752854  \n",
       "4865  3.363198  1.323159    3.504938  3.797207  \n",
       "4866  3.363753  1.350315    3.509588  3.919494  \n",
       "4867  3.364939  1.382766    3.510591  4.146773  \n",
       "4868  3.366947  1.414574    3.508963  4.402743  \n",
       "4869  3.369019  1.439735    3.504760  4.612252  \n",
       "4870  3.370581  1.452094    3.499109  4.698694  \n",
       "4871  3.370463  1.453217    3.486642  4.616114  \n",
       "4872  3.368999  1.449791    3.465725  4.412016  \n",
       "4873  3.367664  1.443148    3.440463  4.150875  \n",
       "4874  3.366860  1.435289    3.415048  3.902874  \n",
       "4875  3.367331  1.428195    3.393596  3.736007  \n",
       "4876  3.368108  1.420745    3.370361  3.639137  \n",
       "4877  3.368064  1.410592    3.340461  3.555700  \n",
       "4878  3.368450  1.398961    3.310414  3.481686  \n",
       "4879  3.369208  1.386746    3.286060  3.419001  \n",
       "4880  3.370422  1.374636    3.273056  3.369217  \n",
       "4881  3.373101  1.361207    3.278916  3.321981  \n",
       "4882  3.377277  1.344097    3.299682  3.269919  \n",
       "4883  3.382430  1.324848    3.326676  3.215160  \n",
       "4884  3.386955  1.304935    3.349732  3.164615  \n",
       "4885  3.389211  1.285640    3.359597  3.125062  \n",
       "4886  3.388186  1.253967    3.359535  3.014998  \n",
       "4887  3.385896  1.228989    3.357317  2.917695  \n",
       "4888  3.383535  1.220963    3.345828  2.908021  \n",
       "4889  3.379796  1.216340    3.321793  2.927268  "
      ]
     },
     "execution_count": 56,
     "metadata": {},
     "output_type": "execute_result"
    }
   ],
   "source": [
    "#data_rus = df[df['Entity'] == 'Russia'].loc [:, 'Prevalence - Schizophrenia - Sex: Both - Age: Age-standardized (Percent)':'Prevalence - Alcohol use disorders - Sex: Both - Age: Age-standardized (Percent)']\n",
    "data_rus = df[df['Entity'] == 'Russia'].copy()\n",
    "data_rus.rename(columns ={'Prevalence - Schizophrenia - Sex: Both - Age: Age-standardized (Percent)':'Schizophrenia, %',\n",
    "                          'Prevalence - Bipolar disorder - Sex: Both - Age: Age-standardized (Percent)':'Bipolar disorder, %',\n",
    "                          'Prevalence - Eating disorders - Sex: Both - Age: Age-standardized (Percent)':'Eating disorders, %',\n",
    "                          'Prevalence - Anxiety disorders - Sex: Both - Age: Age-standardized (Percent)':'Anxiety',\n",
    "                          'Prevalence - Drug use disorders - Sex: Both - Age: Age-standardized (Percent)':'Drug',\n",
    "                          'Prevalence - Depressive disorders - Sex: Both - Age: Age-standardized (Percent)':'Depression',\n",
    "                          'Prevalence - Alcohol use disorders - Sex: Both - Age: Age-standardized (Percent)':'Alcohol'},\n",
    "                          inplace = True)\n",
    "data_rus = data_rus.loc [:, 'Year':'Alcohol']\n",
    "data_rus"
   ]
  },
  {
   "cell_type": "code",
   "execution_count": 4,
   "id": "232cc8a2",
   "metadata": {},
   "outputs": [
    {
     "data": {
      "text/plain": [
       "<AxesSubplot:xlabel='Year', ylabel='Alcohol use disorders, %'>"
      ]
     },
     "execution_count": 4,
     "metadata": {},
     "output_type": "execute_result"
    },
    {
     "data": {
      "image/png": "[encoded data removed]",
      "text/plain": [
       "<Figure size 432x288 with 1 Axes>"
      ]
     },
     "metadata": {
      "needs_background": "light"
     },
     "output_type": "display_data"
    }
   ],
   "source": [
    "sns.lineplot(data=data_rus, y=\"Alcohol use disorders, %\", x=\"Year\")"
   ]
  },
  {
   "cell_type": "code",
   "execution_count": 5,
   "id": "c214aa41",
   "metadata": {},
   "outputs": [
    {
     "data": {
      "text/plain": [
       "<AxesSubplot:xlabel='Year', ylabel='Anxiety disorders, %'>"
      ]
     },
     "execution_count": 5,
     "metadata": {},
     "output_type": "execute_result"
    },
    {
     "data": {
      "image/png": "[encoded data removed]",
      "text/plain": [
       "<Figure size 432x288 with 1 Axes>"
      ]
     },
     "metadata": {
      "needs_background": "light"
     },
     "output_type": "display_data"
    }
   ],
   "source": [
    "sns.lineplot(data=data_rus, y=\"Anxiety disorders, %\", x=\"Year\")"
   ]
  },
  {
   "cell_type": "code",
   "execution_count": 6,
   "id": "efddb163",
   "metadata": {},
   "outputs": [
    {
     "data": {
      "text/plain": [
       "[Text(0.5, 1.0, 'Изменение уровня депрессии в России в течение 30 лет')]"
      ]
     },
     "execution_count": 6,
     "metadata": {},
     "output_type": "execute_result"
    },
    {
     "data": {
      "image/png": "[encoded data removed]",
      "text/plain": [
       "<Figure size 432x288 with 1 Axes>"
      ]
     },
     "metadata": {
      "needs_background": "light"
     },
     "output_type": "display_data"
    }
   ],
   "source": [
    "(sns.lineplot(data=data_rus, y=\"Depression, %\", x=\"Year\").set(title = \"Изменение уровня депрессии в России в течение 30 лет\"))"
   ]
  },
  {
   "cell_type": "code",
   "execution_count": 39,
   "id": "582bfca4",
   "metadata": {},
   "outputs": [
    {
     "data": {
      "text/plain": [
       "30"
      ]
     },
     "execution_count": 39,
     "metadata": {},
     "output_type": "execute_result"
    }
   ],
   "source": [
    "alco = list(data_rus['Alcohol use disorders, %'])\n",
    "depr = list(data_rus['Depression, %'])\n",
    "anx = list(data_rus['Anxiety disorders, %'])"
   ]
  },
  {
   "cell_type": "code",
   "execution_count": 14,
   "id": "207d556e",
   "metadata": {},
   "outputs": [
    {
     "data": {
      "text/plain": [
       "BartlettResult(statistic=250.9890281504212, pvalue=3.150830407304068e-55)"
      ]
     },
     "execution_count": 14,
     "metadata": {},
     "output_type": "execute_result"
    }
   ],
   "source": [
    "stats.bartlett(alco, depr, anx) #p < 0.05"
   ]
  },
  {
   "cell_type": "code",
   "execution_count": 30,
   "id": "3f4a20fd",
   "metadata": {},
   "outputs": [
    {
     "data": {
      "text/plain": [
       "BartlettResult(statistic=67.08754596263745, pvalue=2.5971391305978573e-16)"
      ]
     },
     "execution_count": 30,
     "metadata": {},
     "output_type": "execute_result"
    }
   ],
   "source": [
    "stats.bartlett(alco, depr) #p < 0.05"
   ]
  },
  {
   "cell_type": "code",
   "execution_count": 31,
   "id": "766a8b0b",
   "metadata": {},
   "outputs": [
    {
     "data": {
      "text/plain": [
       "BartlettResult(statistic=197.63635477626804, pvalue=6.849315584522745e-45)"
      ]
     },
     "execution_count": 31,
     "metadata": {},
     "output_type": "execute_result"
    }
   ],
   "source": [
    "stats.bartlett(alco, anx) #p < 0.05"
   ]
  },
  {
   "cell_type": "code",
   "execution_count": 32,
   "id": "1ba6cef2",
   "metadata": {},
   "outputs": [
    {
     "data": {
      "text/plain": [
       "BartlettResult(statistic=92.97431231041217, pvalue=5.297749978396958e-22)"
      ]
     },
     "execution_count": 32,
     "metadata": {},
     "output_type": "execute_result"
    }
   ],
   "source": [
    "stats.bartlett(depr, anx) #p < 0.05"
   ]
  },
  {
   "cell_type": "code",
   "execution_count": 25,
   "id": "c6850a1f",
   "metadata": {},
   "outputs": [
    {
     "data": {
      "text/html": [
       "<div>\n",
       "<style scoped>\n",
       "    .dataframe tbody tr th:only-of-type {\n",
       "        vertical-align: middle;\n",
       "    }\n",
       "\n",
       "    .dataframe tbody tr th {\n",
       "        vertical-align: top;\n",
       "    }\n",
       "\n",
       "    .dataframe thead th {\n",
       "        text-align: right;\n",
       "    }\n",
       "</style>\n",
       "<table border=\"1\" class=\"dataframe\">\n",
       "  <thead>\n",
       "    <tr style=\"text-align: right;\">\n",
       "      <th></th>\n",
       "      <th>Source</th>\n",
       "      <th>ddof1</th>\n",
       "      <th>ddof2</th>\n",
       "      <th>F</th>\n",
       "      <th>p-unc</th>\n",
       "      <th>np2</th>\n",
       "    </tr>\n",
       "  </thead>\n",
       "  <tbody>\n",
       "    <tr>\n",
       "      <th>0</th>\n",
       "      <td>group</td>\n",
       "      <td>2</td>\n",
       "      <td>39.050204</td>\n",
       "      <td>7.396213</td>\n",
       "      <td>0.001889</td>\n",
       "      <td>0.166917</td>\n",
       "    </tr>\n",
       "  </tbody>\n",
       "</table>\n",
       "</div>"
      ],
      "text/plain": [
       "  Source  ddof1      ddof2         F     p-unc       np2\n",
       "0  group      2  39.050204  7.396213  0.001889  0.166917"
      ]
     },
     "execution_count": 25,
     "metadata": {},
     "output_type": "execute_result"
    }
   ],
   "source": [
    "df = pd.DataFrame({'score': alco+depr+anx,\n",
    " 'group': np.repeat(['alcohol', 'depression', 'anxiety'], repeats = len(alco) )}) #Анализ Уэлча\n",
    "pg.welch_anova(dv='score', between='group', data=df) #p<0.05"
   ]
  },
  {
   "cell_type": "code",
   "execution_count": 26,
   "id": "40835fcb",
   "metadata": {},
   "outputs": [
    {
     "data": {
      "text/plain": [
       "F_onewayResult(statistic=8.715673406524825, pvalue=0.00035476784783054066)"
      ]
     },
     "execution_count": 26,
     "metadata": {},
     "output_type": "execute_result"
    }
   ],
   "source": [
    "stats.f_oneway(alco, depr, anx)"
   ]
  },
  {
   "cell_type": "code",
   "execution_count": 38,
   "id": "7a9da525",
   "metadata": {},
   "outputs": [
    {
     "data": {
      "text/plain": [
       "KruskalResult(statistic=7.563174603174673, pvalue=0.022786493666746375)"
      ]
     },
     "execution_count": 38,
     "metadata": {},
     "output_type": "execute_result"
    }
   ],
   "source": [
    "stats.kruskal(alco, depr, anx)"
   ]
  },
  {
   "cell_type": "code",
   "execution_count": 50,
   "id": "fef9a586",
   "metadata": {},
   "outputs": [
    {
     "data": {
      "text/html": [
       "<div>\n",
       "<style scoped>\n",
       "    .dataframe tbody tr th:only-of-type {\n",
       "        vertical-align: middle;\n",
       "    }\n",
       "\n",
       "    .dataframe tbody tr th {\n",
       "        vertical-align: top;\n",
       "    }\n",
       "\n",
       "    .dataframe thead th {\n",
       "        text-align: right;\n",
       "    }\n",
       "</style>\n",
       "<table border=\"1\" class=\"dataframe\">\n",
       "  <thead>\n",
       "    <tr style=\"text-align: right;\">\n",
       "      <th></th>\n",
       "      <th>df</th>\n",
       "      <th>sum_sq</th>\n",
       "      <th>mean_sq</th>\n",
       "      <th>F</th>\n",
       "      <th>PR(&gt;F)</th>\n",
       "    </tr>\n",
       "  </thead>\n",
       "  <tbody>\n",
       "    <tr>\n",
       "      <th>Anxiety</th>\n",
       "      <td>1.0</td>\n",
       "      <td>0.062953</td>\n",
       "      <td>0.062953</td>\n",
       "      <td>13.116923</td>\n",
       "      <td>0.001147</td>\n",
       "    </tr>\n",
       "    <tr>\n",
       "      <th>Residual</th>\n",
       "      <td>28.0</td>\n",
       "      <td>0.134382</td>\n",
       "      <td>0.004799</td>\n",
       "      <td>NaN</td>\n",
       "      <td>NaN</td>\n",
       "    </tr>\n",
       "  </tbody>\n",
       "</table>\n",
       "</div>"
      ],
      "text/plain": [
       "            df    sum_sq   mean_sq          F    PR(>F)\n",
       "Anxiety    1.0  0.062953  0.062953  13.116923  0.001147\n",
       "Residual  28.0  0.134382  0.004799        NaN       NaN"
      ]
     },
     "execution_count": 50,
     "metadata": {},
     "output_type": "execute_result"
    }
   ],
   "source": [
    "#One-way Anova\n",
    "mod = ols('Depression ~ Anxiety', data = data_rus).fit()\n",
    "aov = sm.stats.anova_lm(mod, type = 2)\n",
    "aov"
   ]
  },
  {
   "cell_type": "code",
   "execution_count": 61,
   "id": "e7376f52",
   "metadata": {},
   "outputs": [
    {
     "data": {
      "text/html": [
       "<div>\n",
       "<style scoped>\n",
       "    .dataframe tbody tr th:only-of-type {\n",
       "        vertical-align: middle;\n",
       "    }\n",
       "\n",
       "    .dataframe tbody tr th {\n",
       "        vertical-align: top;\n",
       "    }\n",
       "\n",
       "    .dataframe thead th {\n",
       "        text-align: right;\n",
       "    }\n",
       "</style>\n",
       "<table border=\"1\" class=\"dataframe\">\n",
       "  <thead>\n",
       "    <tr style=\"text-align: right;\">\n",
       "      <th></th>\n",
       "      <th>df</th>\n",
       "      <th>sum_sq</th>\n",
       "      <th>mean_sq</th>\n",
       "      <th>F</th>\n",
       "      <th>PR(&gt;F)</th>\n",
       "    </tr>\n",
       "  </thead>\n",
       "  <tbody>\n",
       "    <tr>\n",
       "      <th>Anxiety</th>\n",
       "      <td>1.0</td>\n",
       "      <td>0.062953</td>\n",
       "      <td>0.062953</td>\n",
       "      <td>51.527857</td>\n",
       "      <td>1.268131e-07</td>\n",
       "    </tr>\n",
       "    <tr>\n",
       "      <th>Alcohol</th>\n",
       "      <td>1.0</td>\n",
       "      <td>0.052851</td>\n",
       "      <td>0.052851</td>\n",
       "      <td>43.259884</td>\n",
       "      <td>5.648954e-07</td>\n",
       "    </tr>\n",
       "    <tr>\n",
       "      <th>Anxiety:Alcohol</th>\n",
       "      <td>1.0</td>\n",
       "      <td>0.049765</td>\n",
       "      <td>0.049765</td>\n",
       "      <td>40.733903</td>\n",
       "      <td>9.251172e-07</td>\n",
       "    </tr>\n",
       "    <tr>\n",
       "      <th>Residual</th>\n",
       "      <td>26.0</td>\n",
       "      <td>0.031765</td>\n",
       "      <td>0.001222</td>\n",
       "      <td>NaN</td>\n",
       "      <td>NaN</td>\n",
       "    </tr>\n",
       "  </tbody>\n",
       "</table>\n",
       "</div>"
      ],
      "text/plain": [
       "                   df    sum_sq   mean_sq          F        PR(>F)\n",
       "Anxiety           1.0  0.062953  0.062953  51.527857  1.268131e-07\n",
       "Alcohol           1.0  0.052851  0.052851  43.259884  5.648954e-07\n",
       "Anxiety:Alcohol   1.0  0.049765  0.049765  40.733903  9.251172e-07\n",
       "Residual         26.0  0.031765  0.001222        NaN           NaN"
      ]
     },
     "execution_count": 61,
     "metadata": {},
     "output_type": "execute_result"
    }
   ],
   "source": [
    "#Two-way Anova\n",
    "mod1 = ols('Depression ~ Anxiety+Alcohol+Anxiety*Alcohol', data = data_rus).fit()\n",
    "aov1 = sm.stats.anova_lm(mod1, type = 2)\n",
    "aov1"
   ]
  },
  {
   "cell_type": "code",
   "execution_count": null,
   "id": "8a37274b",
   "metadata": {},
   "outputs": [],
   "source": []
  }
 ],
 "metadata": {
  "kernelspec": {
   "display_name": "Python 3 (ipykernel)",
   "language": "python",
   "name": "python3"
  },
  "language_info": {
   "codemirror_mode": {
    "name": "ipython",
    "version": 3
   },
   "file_extension": ".py",
   "mimetype": "text/x-python",
   "name": "python",
   "nbconvert_exporter": "python",
   "pygments_lexer": "ipython3",
   "version": "3.10.2"
  }
 },
 "nbformat": 4,
 "nbformat_minor": 5
}
